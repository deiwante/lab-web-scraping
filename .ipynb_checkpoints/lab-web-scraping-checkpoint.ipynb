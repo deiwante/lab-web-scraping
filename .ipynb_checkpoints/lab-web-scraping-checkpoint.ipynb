{
 "cells": [
  {
   "cell_type": "markdown",
   "id": "7e7a1ab8-2599-417d-9a65-25ef07f3a786",
   "metadata": {
    "id": "7e7a1ab8-2599-417d-9a65-25ef07f3a786"
   },
   "source": [
    "# Lab | Web Scraping"
   ]
  },
  {
   "cell_type": "markdown",
   "id": "ce8882fc-4815-4567-92fa-b4816358ba7d",
   "metadata": {
    "id": "ce8882fc-4815-4567-92fa-b4816358ba7d"
   },
   "source": [
    "Welcome to the IMDb Web Scraping Adventure Lab!\n",
    "\n",
    "**Objective**\n",
    "\n",
    "In this lab, we will embark on a mission to unearth valuable insights from the vast sea of data available on IMDb, one of the largest online databases of movie, TV, and celebrity information. As budding data scientists and business analysts, you have been tasked to scrape a specific subset of data from IMDb to assist film production companies in understanding the landscape of highly-rated movies in a defined time period. Your insights will potentially influence the making of the next netflix movie!\n",
    "\n",
    "**Background**\n",
    "\n",
    "In a world where data has become the new currency, businesses are leveraging big data to make informed decisions that drive success and profitability. The entertainment industry, being no exception, utilizes data analytics to comprehend market trends, audience preferences, and the performance of films based on various parameters such as director, genre, stars involved, etc. IMDb stands as a goldmine of such data, offering intricate details of almost every movie ever made.\n",
    "\n",
    "**Task**\n",
    "\n",
    "Your task is to create a Python script using `BeautifulSoup` and `pandas` to scrape IMDb movie data based on user ratings and release dates. This script should be able to filter movies with ratings above a certain threshold and within a specified date range.\n",
    "\n",
    "**Expected Outcome**\n",
    "\n",
    "- A function named `scrape_imdb` that takes four parameters: `title_type`,`user_rating`, `start_date`, and `end_date`.\n",
    "- The function should return a DataFrame with the following columns:\n",
    "  - **Movie Nr**: The number representing the movie’s position in the list.\n",
    "  - **Title**: The title of the movie.\n",
    "  - **Year**: The year the movie was released.\n",
    "  - **Rating**: The IMDb rating of the movie.\n",
    "  - **Runtime (min)**: The duration of the movie in minutes.\n",
    "  - **Genre**: The genre of the movie.\n",
    "  - **Description**: A brief description of the movie.\n",
    "  - **Director**: The director of the movie.\n",
    "  - **Stars**: The main stars of the movie.\n",
    "  - **Votes**: The number of votes the movie received.\n",
    "  - **Gross ($M)**: The gross earnings of the movie in millions of USD.\n",
    "\n",
    "You will execute this script to scrape data for movies with the Title Type `Feature Film` that have a user rating of `7.5 and above` and were released between `January 1, 1990, and December 31, 1992`.\n",
    "\n",
    "Remember to experiment with different title types, dates and ratings to ensure your code is versatile and can handle various searches effectively!\n",
    "\n",
    "**Resources**\n",
    "\n",
    "- [Beautiful Soup Documentation](https://www.crummy.com/software/BeautifulSoup/bs4/doc/)\n",
    "- [Pandas Documentation](https://pandas.pydata.org/pandas-docs/stable/index.html)\n",
    "- [IMDb Advanced Search](https://www.imdb.com/search/title/)\n"
   ]
  },
  {
   "cell_type": "markdown",
   "id": "3519921d-5890-445b-9a33-934ed8ee378c",
   "metadata": {
    "id": "3519921d-5890-445b-9a33-934ed8ee378c"
   },
   "source": [
    "**Hint**\n",
    "\n",
    "Your first mission is to familiarize yourself with the IMDb advanced search page. Head over to [IMDb advanced search](https://www.imdb.com/search/title/) and input the following parameters, keeping all other fields to their default values or blank:\n",
    "\n",
    "- **Title Type**: Feature film\n",
    "- **Release date**: From 1990 to 1992 (Note: You don't need to specify the day and month)\n",
    "- **User Rating**: 7.5 to -\n",
    "\n",
    "Upon searching, you'll land on a page showcasing a list of movies, each displaying vital details such as the title, release year, and crew information. Your task is to scrape this treasure trove of data.\n",
    "\n",
    "Carefully examine the resulting URL and construct your own URL to include all the necessary parameters for filtering the movies."
   ]
  },
  {
   "cell_type": "markdown",
   "id": "25a83a0d-a742-49f6-985e-e27887cbf922",
   "metadata": {
    "id": "25a83a0d-a742-49f6-985e-e27887cbf922"
   },
   "source": [
    "\n",
    "---\n",
    "\n",
    "**Best of luck! Immerse yourself in the world of movies and may the data be with you!**"
   ]
  },
  {
   "cell_type": "markdown",
   "id": "7b75cf0d-9afa-4eec-a9e2-befeac68b2a0",
   "metadata": {
    "id": "7b75cf0d-9afa-4eec-a9e2-befeac68b2a0"
   },
   "source": [
    "**Important note**:\n",
    "\n",
    "In the fast-changing online world, websites often get updates and make changes. When you try this lab, the IMDb website might be different from what we expect.\n",
    "\n",
    "If you run into problems because of these changes, like new rules or things that stop you from getting data, don't worry! Instead, get creative.\n",
    "\n",
    "You can choose another website that interests you and is good for scraping data. Websites like Wikipedia or The New York Times are good options. The main goal is still the same: get useful data and learn how to scrape it from a website that you find interesting. It's a chance to practice your web scraping skills and explore a source of information you like."
   ]
  },
  {
   "cell_type": "code",
   "execution_count": null,
   "id": "f4787965",
   "metadata": {},
   "outputs": [],
   "source": [
    "import requests\n",
    "url = ('https://www.imdb.com/list/ls002206094/')\n",
    "response = requests.get(url)\n",
    "response\n",
    "response.content\n",
    "response.headers\n",
    "#print(response.headers['Content-Type'])\n",
    "from bs4 import BeautifulSoup\n",
    "soup = BeautifulSoup(response.content, \"html.parser\") \n",
    "#type(soup)\n",
    "#type(titles)  \n",
    "#len(titles) \n",
    "soup.find(\"title\")\n",
    "soup.find_all(\"title\")\n",
    "soup.find_all('h3', class_='lister-item-header')\n",
    "titles = soup.find_all('h3', class_='lister-item-header')\n",
    "#print(titles[50].text)\n",
    "#print(titles[50].text)\n",
    "#print(titles[50].getText())\n",
    "#titles[50].getText().strip().replace('\\n', ' ')  \n",
    "titlenames = [titles.text.strip() for titles in titles]\n",
    "all_titles = [title.getText().strip().replace('\\n', ' ') for title in titles]\n",
    "titlenames = [title.text.strip().replace('\\n', ' ') for title in titles]\n",
    "#titlenames[:10]  #to have a clean review of first 10  "
   ]
  },
  {
   "cell_type": "code",
   "execution_count": null,
   "id": "a3fc8b37",
   "metadata": {},
   "outputs": [],
   "source": [
    "import requests\n",
    "from bs4 import BeautifulSoup\n",
    "import pandas as pd\n",
    "from IPython.display import HTML\n",
    "\n",
    "def scrape_imdb(soup):\n",
    "    \n",
    "    movies_list = []\n",
    "    \n",
    "    component_containers = soup.find_all('div', class_='lister-item mode-detail')\n",
    "    \n",
    "    for component in component_containers:\n",
    "        \n",
    "        position = component.find('span', class_='lister-item-index unbold text-primary').text.strip()\n",
    "\n",
    "        \n",
    "        runtime = component.find('span', class_='runtime').text.strip()\n",
    "\n",
    "        \n",
    "        description = component.find('p', class_=\"\").text.strip()  \n",
    "\n",
    "       \n",
    "        rating = component.find('span', class_='ipl-rating-star__rating').text.strip()\n",
    "\n",
    "        \n",
    "#        director = component.find_all('p', class_='text-muted text-small')[1].split('|')[0].strip().text.replace('\\n', ' ') \n",
    "        \n",
    "        director = component.find_all('p', class_='text-muted text-small')[1].text.split('|')[0].strip().replace('\\n', ' ') \n",
    "        \n",
    "        star = component.find_all('p', class_='text-muted text-small')[1].text.split('|')[1].strip().replace('\\n', ' ')\n",
    "        \n",
    "#        star = component.find_all('p', class_='text-muted text-small')[1].text.replace('\\n', ' ') \n",
    "#        star.append(director.split('|')[1].strip())\n",
    "        \n",
    "#        nv_elements = component.find_all('span', attrs={'name': 'nv'})\n",
    "#        \n",
    "#        votes = nv_elements[0].text\n",
    "#        gross = nv_elements[1].text\n",
    "\n",
    "        nv_elements = component.find_all('span', attrs={'name': 'nv'})\n",
    "    \n",
    "        votes = nv_elements[0].text if len(nv_elements) > 0 else 'N/A'  # Check if there is at least one element\n",
    "        gross = nv_elements[1].text if len(nv_elements) > 1 else 'N/A'\n",
    "                                  \n",
    "        title = component.find('h3', class_='lister-item-header').text.replace('\\n', ' ') \n",
    "                   \n",
    "        year = component.find('span', class_='lister-item-year text-muted unbold').text.strip()\n",
    "     \n",
    "        length = component.find('span', class_='runtime').text.strip()\n",
    "\n",
    "        \n",
    "        genre = component.find('span', class_='genre').text.strip()\n",
    "\n",
    "        \n",
    "        poster_img = component.find('img', class_='loadlate')\n",
    "        poster_url = poster_img['loadlate'] if poster_img else 'N/A'\n",
    "        poster_html = f'<img src=\"{poster_url}\" width=\"100px\">'                           \n",
    "        \n",
    "        movies_list.append([title, year, rating, runtime, genre, description, director, star, votes, gross, poster_html])\n",
    "        \n",
    "        \n",
    "    df = pd.DataFrame(movies_list, columns=['Title', 'Year', 'Rating', 'Runtime (min)', 'Genre', 'Description', 'Director', 'Stars', 'Votes', 'Gross ($M)', 'Poster'])\n",
    "    return df\n"
   ]
  },
  {
   "cell_type": "code",
   "execution_count": null,
   "id": "08a252a6",
   "metadata": {},
   "outputs": [],
   "source": [
    "url = 'https://www.imdb.com/list/ls002206094/'\n",
    "response = requests.get(url)\n",
    "soup = BeautifulSoup(response.content, 'html.parser') \n"
   ]
  },
  {
   "cell_type": "code",
   "execution_count": null,
   "id": "ac3e3bfe",
   "metadata": {},
   "outputs": [],
   "source": [
    "df = scrape_imdb(soup)\n",
    "\n",
    "display(HTML(df.to_html(escape=False)))"
   ]
  },
  {
   "cell_type": "markdown",
   "id": "9ab1217a-df9d-4a2b-a32c-2c5f1eecd52a",
   "metadata": {
    "id": "9ab1217a-df9d-4a2b-a32c-2c5f1eecd52a"
   },
   "source": [
    "## BONUS\n",
    "\n",
    "The search results span multiple pages, housing a total of 631 movies in our example with each page displaying 50 movies at most. To scrape data seamlessly from all pages, you'll need to dive deep into the structure of the URLs generated with each \"Next\" click.\n",
    "\n",
    "Take a close look at the following URLs:\n",
    "- First page:\n",
    "  ```\n",
    "  https://www.imdb.com/search/title/?title_type=feature&release_date=1990-01-01,1992-12-31&user_rating=7.5,\n",
    "  ```\n",
    "- Second page:\n",
    "  ```\n",
    "  https://www.imdb.com/search/title/?title_type=feature&release_date=1990-01-01,1992-12-31&user_rating=7.5,&start=51&ref_=adv_nxt\n",
    "  ```\n",
    "- Third page:\n",
    "  ```\n",
    "  https://www.imdb.com/search/title/?title_type=feature&release_date=1990-01-01,1992-12-31&user_rating=7.5,&start=101&ref_=adv_nxt\n",
    "  ```\n",
    "\n",
    "You should notice a pattern. There is a `start` parameter incrementing by 50 with each page, paired with a constant `ref_` parameter holding the value \"adv_nxt\".\n",
    "\n",
    "Modify your script so it's capable of iterating over all available pages to fetch data on all the 631 movies (631 is the total number of movies in the proposed example)."
   ]
  },
  {
   "cell_type": "code",
   "execution_count": null,
   "id": "21ac4fc0-a12b-4a00-9266-2020166f0dea",
   "metadata": {
    "id": "21ac4fc0-a12b-4a00-9266-2020166f0dea"
   },
   "outputs": [],
   "source": [
    "# Your solution goes here"
   ]
  }
 ],
 "metadata": {
  "colab": {
   "provenance": []
  },
  "kernelspec": {
   "display_name": "Python 3 (ipykernel)",
   "language": "python",
   "name": "python3"
  },
  "language_info": {
   "codemirror_mode": {
    "name": "ipython",
    "version": 3
   },
   "file_extension": ".py",
   "mimetype": "text/x-python",
   "name": "python",
   "nbconvert_exporter": "python",
   "pygments_lexer": "ipython3",
   "version": "3.11.5"
  }
 },
 "nbformat": 4,
 "nbformat_minor": 5
}
